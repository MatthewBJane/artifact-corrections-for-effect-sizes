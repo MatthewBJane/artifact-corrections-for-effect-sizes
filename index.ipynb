{
  "cells": [
    {
      "cell_type": "markdown",
      "metadata": {},
      "source": [
        "# Greetings\n",
        "\n",
        "Welcome to the living open source textbook ***Correcting Effect Sizes for Statistical Artifacts***. This textbook covers all the essential equations and code needed to correct for biases in our effect size estimates. It will also hopefully provide readers with a deeper understanding, appreciation, and intuition for these seemingly complex formulas. It also covers how to apply these corrections to meta-analysis.\n",
        "\n",
        "#### What are Statistical Artifacts? {.unnumbered}\n",
        "\n",
        "In this book statistical artifacts will be defined broadly as **any source of contamination that induces bias in research findings**. Artifacts are present in virtually every research study, so it is crucial that we address them.\n",
        "\n",
        "#### Living and Open Source {.unnumbered}\n",
        "\n",
        "A living textbook is one that constantly updates with new features and is open to changes from others. The goal is to have the most modern cutting-edge methods for artifact correction in this book, so in order to do that, this book needs to grow as the research grows. This book is also open source ([CC-BY license](LICENSE)). All the figures, code, and documents are available open source in my [github repository](https://github.com/MatthewBJane/artifact-corrections-for-effect-sizes/tree/gh-pages).\n",
        "\n",
        "#### Contributions {.unnumbered}\n",
        "\n",
        "Please feel free to contribute to this textbook, if your contribution makes it to the published version of this book, your name will be included in the contributor list below with a description of your work.\n",
        "\n",
        "# Cite This Work\n",
        "\n",
        "\n",
        "```{default}\n",
        "@book{MatthewBJane2023,\n",
        "  title     = \"Correcting Effect Sizes for Statistical Artifacts: Implementation in R and Application to Meta-Analysis\",\n",
        "  author    = \"Jané, Matthew B.\",\n",
        "  year      = 2023,\n",
        "  publisher = \"Bantam\",\n",
        "  note      = {\\url{https://matthewbjane.quarto.pub/artifact-corrections-for-effect-sizes/}}\n",
        "}\n",
        "```"
      ],
      "id": "fa8a06d2"
    }
  ],
  "metadata": {
    "kernelspec": {
      "display_name": "Python 3",
      "language": "python",
      "name": "python3"
    }
  },
  "nbformat": 4,
  "nbformat_minor": 5
}