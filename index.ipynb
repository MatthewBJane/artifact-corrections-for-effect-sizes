{
  "cells": [
    {
      "cell_type": "raw",
      "metadata": {},
      "source": [
        "---\n",
        "share:\n",
        "  permalink: \"https://matthewbjane.quarto.pub/artifact-corrections-for-effect-sizes/\"\n",
        "  description: \"Check out this open-access textbook on artifact corrections for effect sizes!\"\n",
        "  twitter: true\n",
        "  location: \"before-body\"\n",
        "---"
      ],
      "id": "7ff2cc7e"
    },
    {
      "cell_type": "markdown",
      "metadata": {},
      "source": [
        "```{javascript}\n",
        "<a class=\"twitter-share-button\"\n",
        "  href=\"https://twitter.com/intent/tweet\">\n",
        "Tweet</a>\n",
        "```\n",
        "\n",
        "\n",
        "\n",
        "# Greetings\n",
        "\n",
        "Welcome to the living open source textbook ***Correcting Effect Sizes for Statistical Artifacts***. This textbook covers all the essential equations and code needed to correct for biases in our effect size estimates. It will also hopefully provide readers with a deeper understanding, appreciation, and intuition for these seemingly complex formulas. It also covers how to apply these corrections to meta-analysis.\n",
        "\n",
        "#### What are Statistical Artifacts? {.unnumbered}\n",
        "\n",
        "In this book statistical artifacts will be defined broadly as **any source of contamination that induces bias in research findings**. Artifacts are present in virtually every research study, so it is crucial that we address them.\n",
        "\n",
        "#### Living Textbook {.unnumbered}\n",
        "\n",
        "A living textbook is one that constantly updates with new features and is open to changes from others. This book will contain modern methods and cutting-edge techniques for artifact corrections, so in order to keep this book up-to-date it needs to grow as the research grows. New features, such as interactive figures will be added soon\n",
        "\n",
        "#### Open Science Practices {.unnumbered}\n",
        "\n",
        "The current maintainer of the site is [Matthew B. Jané](https://matthewbjane.com).\n",
        "\n",
        "It is important that this book is both open-source and open-access. is also open source ([CC-BY license](LICENSE)). All the figures, code, and documents are available in my [github repository](https://github.com/MatthewBJane/artifact-corrections-for-effect-sizes/).\n",
        "\n",
        "#### Contributions {.unnumbered}\n",
        "\n",
        "Please feel free to contribute to this textbook, if your contribution makes it to the published version of this book, your name will be included in the contributor list below with a description of your work.\n",
        "\n",
        "## Cite This Work {.unnumbered}\n",
        "\n",
        "#### APA {.unnumbered}\n",
        "\n",
        "Jané, M. B. (2023). Correcting Effect Sizes for Statistical Artifacts: Implementation in R and Application to Meta-Analysis. (n.p.). https://matthewbjane.quarto.pub/artifact-corrections-for-effect-sizes/\n",
        "\n",
        "#### BibTeX {.unnumbered}\n",
        "\n",
        "``` default\n",
        "@book{MatthewBJane2023,\n",
        "  title     = \"Correcting Effect Sizes for Statistical Artifacts: Implementation in R and Application to Meta-Analysis\",\n",
        "  author    = \"Jané, Matthew B.\",\n",
        "  year      = 2023,\n",
        "  publisher = \"(n.p.)\",\n",
        "  url      = {https://matthewbjane.quarto.pub/artifact-corrections-for-effect-sizes/}\n",
        "}\n",
        "```"
      ],
      "id": "97770154"
    }
  ],
  "metadata": {
    "kernelspec": {
      "display_name": "Python 3",
      "language": "python",
      "name": "python3"
    }
  },
  "nbformat": 4,
  "nbformat_minor": 5
}